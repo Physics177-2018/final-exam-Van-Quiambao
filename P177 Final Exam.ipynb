{
 "cells": [
  {
   "cell_type": "markdown",
   "metadata": {},
   "source": [
    "# P177: Final Exam\n",
    "Spring 2018\n",
    "\n",
    "**Due:** please complete by **Friday, June 15th**.  \n",
    "Pro-tip: do this way before then. \n",
    "\n",
    "**iEval:** please complete the [iEval](https://ieval.ucr.edu/) before **Friday, June 8th**. \n",
    "\n",
    "\n",
    "*Van Quiambao*"
   ]
  },
  {
   "cell_type": "markdown",
   "metadata": {},
   "source": [
    "## 1. Kaggle Tutorial \n",
    "\n",
    "1. Create a Kaggle account and navigate to the \"[Titanic: Machine Learning from Disaster](https://www.kaggle.com/c/titanic)\" competition. Read a bit about the challenge.\n",
    "\n",
    "2. Navigate to Helge Bjorland's \"[Interactive Data Science Tutorial](https://www.kaggle.com/helgejo/an-interactive-data-science-tutorial)\" that uses the Titanic dataset. (**Note:** in class we used [Rochelle Silva's tutorial](https://www.kaggle.com/rochellesilva/simple-tutorial-for-beginners), the Bjorland tutorial is probably a little more insightful.) \n",
    "\n",
    "3. **Fork** the tutorial and go through it. Run everything. You are not required to complete the \"exercises\" (cells where you have to type code), but you get extra credit if you do.\n",
    "\n",
    "4. Download the completed tutorial as a Jupyter notebook (`ipynb` file). Upload that notebook to your GitHub repository for this final."
   ]
  },
  {
   "cell_type": "markdown",
   "metadata": {},
   "source": [
    "## 2. Answer the Following Questions\n",
    "\n",
    "These are real questions where I'd like you to write a few sentences about your code. The goal is to show that you've thought carefully about your code and can say something insightful about your work. "
   ]
  },
  {
   "cell_type": "markdown",
   "metadata": {},
   "source": [
    "### a) What was your favorite homework problem? What did you learn from doing it?\n",
    "\n",
    "*I really liked Homework 4b, a Pokemon fan myself, it was really cool coding up some stuff related to it and I know now that Pidgeottos eat Caterpies. Since there were many graphs for this one, this one really helped me practice how to make graphs and populate arrays and make vectors.*"
   ]
  },
  {
   "cell_type": "markdown",
   "metadata": {},
   "source": [
    "### b) What was the most difficult problem? What was confusing or frustrating about it?\n",
    "\n",
    "*The most difficult problem for me was 7b, I had to ask from the other classmates and look at their code to complete it. There was a lot of varaible to keep track of but once I got help it made more sense.*"
   ]
  },
  {
   "cell_type": "markdown",
   "metadata": {},
   "source": [
    "### c) In your own words, give an example of a problem where you would use Markov Chain Monte Carlo (MCMC). Briefly describe how MCMC works.\n",
    "\n",
    "*Monte Carlo is the sampling part of the distribution and Markov Chain is the dependence of \"adjacent\" random variables which makes a \"chain\". Together, Markov Chain Monte Carlo is a group of algorithms that help form a probaility distribution. An example of a use of this is the Ising model. The Ising model is a mathematical model of ferromagnetism and it consists of many discrete variables that are the magnetic dipole moments of atomic spins. These spins can be represented in 2 states, +1 or -1. MCMC could provide a distrubtion of the spins because the spins next door to each other will affect the characteristic (+1 or -1) of each other.*"
   ]
  },
  {
   "cell_type": "markdown",
   "metadata": {},
   "source": [
    "### d) ELI5: Pick one technical idea from the course and explain it to a five-year-old.\n",
    "\n",
    "*Euler Method: If you want to estimate how a differential equation looks like on a graph. With each step on the graph you update the slope accordingly with the equation/coordinates of the last step. However, this is just an estimate and not 100% accurate.*"
   ]
  },
  {
   "cell_type": "markdown",
   "metadata": {},
   "source": [
    "## 3. Evaluation (not for a grade)\n",
    "\n",
    "I hope you filled out the `iEval` before Jun 8th. In this cell, please feel free to share constructive criticism about the course. What did you like? What did you not like? Are there topics that you really wish we covered or didn't cover? What should I know to be a better lecturer?\n",
    "\n",
    "*[Fill in your answer]*"
   ]
  },
  {
   "cell_type": "markdown",
   "metadata": {},
   "source": [
    "## Closing thoughts\n",
    "\n",
    "It's been a real joy to be part of this class---I was really impressed by each of your midterm presentations and have had a lot of fun with our discussions. In whatever is ahead of you beyond this class, I look forward to hearing how you each succeed.\n",
    "\n",
    "I encourage you to make your GitHub repositories public (you may need to duplicate them) so that you can show them off to the world."
   ]
  }
 ],
 "metadata": {
  "kernelspec": {
   "display_name": "Python 3",
   "language": "python",
   "name": "python3"
  },
  "language_info": {
   "codemirror_mode": {
    "name": "ipython",
    "version": 3
   },
   "file_extension": ".py",
   "mimetype": "text/x-python",
   "name": "python",
   "nbconvert_exporter": "python",
   "pygments_lexer": "ipython3",
   "version": "3.6.4"
  }
 },
 "nbformat": 4,
 "nbformat_minor": 2
}
